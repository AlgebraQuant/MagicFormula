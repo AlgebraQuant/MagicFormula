{
 "cells": [
  {
   "cell_type": "code",
   "execution_count": 1,
   "metadata": {},
   "outputs": [],
   "source": [
    "import pandas as pd\n",
    "pd.options.display.max_colwidth = 20\n",
    "pd.options.display.max_rows = 4"
   ]
  },
  {
   "cell_type": "code",
   "execution_count": 2,
   "metadata": {},
   "outputs": [
    {
     "ename": "FileNotFoundError",
     "evalue": "[Errno 2] No such file or directory: '/mnt/aq_disk/data/FinancialStatements/dataset.feather'",
     "output_type": "error",
     "traceback": [
      "\u001b[0;31m---------------------------------------------------------------------------\u001b[0m",
      "\u001b[0;31mFileNotFoundError\u001b[0m                         Traceback (most recent call last)",
      "\u001b[1;32m/mnt/aq_disk/code/github/MagicFormula/src/3_balancing_day.ipynb Cell 2\u001b[0m in \u001b[0;36m<cell line: 2>\u001b[0;34m()\u001b[0m\n\u001b[1;32m      <a href='vscode-notebook-cell:/mnt/aq_disk/code/github/MagicFormula/src/3_balancing_day.ipynb#ch0000001?line=0'>1</a>\u001b[0m \u001b[39m# df = pd.read_feather(\"s3://aq-dl/FinancialStatements/dataset.feather\")\u001b[39;00m\n\u001b[0;32m----> <a href='vscode-notebook-cell:/mnt/aq_disk/code/github/MagicFormula/src/3_balancing_day.ipynb#ch0000001?line=1'>2</a>\u001b[0m df \u001b[39m=\u001b[39m pd\u001b[39m.\u001b[39;49mread_feather(\u001b[39m\"\u001b[39;49m\u001b[39m/mnt/aq_disk/data/FinancialStatements/dataset.feather\u001b[39;49m\u001b[39m\"\u001b[39;49m)\n\u001b[1;32m      <a href='vscode-notebook-cell:/mnt/aq_disk/code/github/MagicFormula/src/3_balancing_day.ipynb#ch0000001?line=2'>3</a>\u001b[0m df\n",
      "File \u001b[0;32m~/.local/lib/python3.10/site-packages/pandas/io/feather_format.py:128\u001b[0m, in \u001b[0;36mread_feather\u001b[0;34m(path, columns, use_threads, storage_options)\u001b[0m\n\u001b[1;32m    125\u001b[0m import_optional_dependency(\u001b[39m\"\u001b[39m\u001b[39mpyarrow\u001b[39m\u001b[39m\"\u001b[39m)\n\u001b[1;32m    126\u001b[0m \u001b[39mfrom\u001b[39;00m \u001b[39mpyarrow\u001b[39;00m \u001b[39mimport\u001b[39;00m feather\n\u001b[0;32m--> 128\u001b[0m \u001b[39mwith\u001b[39;00m get_handle(\n\u001b[1;32m    129\u001b[0m     path, \u001b[39m\"\u001b[39;49m\u001b[39mrb\u001b[39;49m\u001b[39m\"\u001b[39;49m, storage_options\u001b[39m=\u001b[39;49mstorage_options, is_text\u001b[39m=\u001b[39;49m\u001b[39mFalse\u001b[39;49;00m\n\u001b[1;32m    130\u001b[0m ) \u001b[39mas\u001b[39;00m handles:\n\u001b[1;32m    132\u001b[0m     \u001b[39mreturn\u001b[39;00m feather\u001b[39m.\u001b[39mread_feather(\n\u001b[1;32m    133\u001b[0m         handles\u001b[39m.\u001b[39mhandle, columns\u001b[39m=\u001b[39mcolumns, use_threads\u001b[39m=\u001b[39m\u001b[39mbool\u001b[39m(use_threads)\n\u001b[1;32m    134\u001b[0m     )\n",
      "File \u001b[0;32m~/.local/lib/python3.10/site-packages/pandas/io/common.py:798\u001b[0m, in \u001b[0;36mget_handle\u001b[0;34m(path_or_buf, mode, encoding, compression, memory_map, is_text, errors, storage_options)\u001b[0m\n\u001b[1;32m    789\u001b[0m         handle \u001b[39m=\u001b[39m \u001b[39mopen\u001b[39m(\n\u001b[1;32m    790\u001b[0m             handle,\n\u001b[1;32m    791\u001b[0m             ioargs\u001b[39m.\u001b[39mmode,\n\u001b[0;32m   (...)\u001b[0m\n\u001b[1;32m    794\u001b[0m             newline\u001b[39m=\u001b[39m\u001b[39m\"\u001b[39m\u001b[39m\"\u001b[39m,\n\u001b[1;32m    795\u001b[0m         )\n\u001b[1;32m    796\u001b[0m     \u001b[39melse\u001b[39;00m:\n\u001b[1;32m    797\u001b[0m         \u001b[39m# Binary mode\u001b[39;00m\n\u001b[0;32m--> 798\u001b[0m         handle \u001b[39m=\u001b[39m \u001b[39mopen\u001b[39;49m(handle, ioargs\u001b[39m.\u001b[39;49mmode)\n\u001b[1;32m    799\u001b[0m     handles\u001b[39m.\u001b[39mappend(handle)\n\u001b[1;32m    801\u001b[0m \u001b[39m# Convert BytesIO or file objects passed with an encoding\u001b[39;00m\n",
      "\u001b[0;31mFileNotFoundError\u001b[0m: [Errno 2] No such file or directory: '/mnt/aq_disk/data/FinancialStatements/dataset.feather'"
     ]
    }
   ],
   "source": [
    "# df = pd.read_feather(\"s3://aq-dl/FinancialStatements/dataset.feather\")\n",
    "df = pd.read_feather(\"/mnt/aq_disk/data/FinancialStatements/dataset.feather\")\n",
    "df"
   ]
  },
  {
   "cell_type": "code",
   "execution_count": null,
   "metadata": {},
   "outputs": [
    {
     "data": {
      "text/html": [
       "<div>\n",
       "<style scoped>\n",
       "    .dataframe tbody tr th:only-of-type {\n",
       "        vertical-align: middle;\n",
       "    }\n",
       "\n",
       "    .dataframe tbody tr th {\n",
       "        vertical-align: top;\n",
       "    }\n",
       "\n",
       "    .dataframe thead th {\n",
       "        text-align: right;\n",
       "    }\n",
       "</style>\n",
       "<table border=\"1\" class=\"dataframe\">\n",
       "  <thead>\n",
       "    <tr style=\"text-align: right;\">\n",
       "      <th></th>\n",
       "      <th>cia_id</th>\n",
       "      <th>cia_nome</th>\n",
       "      <th>doc_id</th>\n",
       "      <th>doc_arq</th>\n",
       "      <th>doc_tp</th>\n",
       "      <th>doc_ver</th>\n",
       "      <th>doc_env</th>\n",
       "      <th>doc_ref</th>\n",
       "      <th>per_ini</th>\n",
       "      <th>per_fim</th>\n",
       "      <th>per_ref</th>\n",
       "      <th>dem_tp</th>\n",
       "      <th>conta_id</th>\n",
       "      <th>conta_fixa</th>\n",
       "      <th>conta_desc</th>\n",
       "      <th>conta_valor</th>\n",
       "    </tr>\n",
       "  </thead>\n",
       "  <tbody>\n",
       "    <tr>\n",
       "      <th>171</th>\n",
       "      <td>94</td>\n",
       "      <td>PANATLANTICA S.A.</td>\n",
       "      <td>6094</td>\n",
       "      <td>0000942010123140...</td>\n",
       "      <td>DFP</td>\n",
       "      <td>1</td>\n",
       "      <td>2011-03-31 10:16:48</td>\n",
       "      <td>2010-12-31</td>\n",
       "      <td>2008-01-01</td>\n",
       "      <td>2008-12-31</td>\n",
       "      <td>-2</td>\n",
       "      <td>IND</td>\n",
       "      <td>1</td>\n",
       "      <td>1</td>\n",
       "      <td>Ativo Total</td>\n",
       "      <td>1.847500e+08</td>\n",
       "    </tr>\n",
       "    <tr>\n",
       "      <th>172</th>\n",
       "      <td>94</td>\n",
       "      <td>PANATLANTICA S.A.</td>\n",
       "      <td>6094</td>\n",
       "      <td>0000942010123140...</td>\n",
       "      <td>DFP</td>\n",
       "      <td>1</td>\n",
       "      <td>2011-03-31 10:16:48</td>\n",
       "      <td>2010-12-31</td>\n",
       "      <td>2008-01-01</td>\n",
       "      <td>2008-12-31</td>\n",
       "      <td>-2</td>\n",
       "      <td>CON</td>\n",
       "      <td>1</td>\n",
       "      <td>1</td>\n",
       "      <td>Ativo Total</td>\n",
       "      <td>2.045610e+08</td>\n",
       "    </tr>\n",
       "    <tr>\n",
       "      <th>...</th>\n",
       "      <td>...</td>\n",
       "      <td>...</td>\n",
       "      <td>...</td>\n",
       "      <td>...</td>\n",
       "      <td>...</td>\n",
       "      <td>...</td>\n",
       "      <td>...</td>\n",
       "      <td>...</td>\n",
       "      <td>...</td>\n",
       "      <td>...</td>\n",
       "      <td>...</td>\n",
       "      <td>...</td>\n",
       "      <td>...</td>\n",
       "      <td>...</td>\n",
       "      <td>...</td>\n",
       "      <td>...</td>\n",
       "    </tr>\n",
       "    <tr>\n",
       "      <th>10546289</th>\n",
       "      <td>24775</td>\n",
       "      <td>BCBF Participaçõ...</td>\n",
       "      <td>87098</td>\n",
       "      <td>0247752018123140...</td>\n",
       "      <td>DFP</td>\n",
       "      <td>3</td>\n",
       "      <td>2019-09-02 11:46:05</td>\n",
       "      <td>2018-12-31</td>\n",
       "      <td>2018-01-01</td>\n",
       "      <td>2018-12-31</td>\n",
       "      <td>0</td>\n",
       "      <td>IND</td>\n",
       "      <td>9.01.01</td>\n",
       "      <td>1</td>\n",
       "      <td>Ações Ordinárias...</td>\n",
       "      <td>1.563080e+09</td>\n",
       "    </tr>\n",
       "    <tr>\n",
       "      <th>10546290</th>\n",
       "      <td>24775</td>\n",
       "      <td>BCBF Participaçõ...</td>\n",
       "      <td>87098</td>\n",
       "      <td>0247752018123140...</td>\n",
       "      <td>DFP</td>\n",
       "      <td>3</td>\n",
       "      <td>2019-09-02 11:46:05</td>\n",
       "      <td>2018-12-31</td>\n",
       "      <td>2018-01-01</td>\n",
       "      <td>2018-12-31</td>\n",
       "      <td>0</td>\n",
       "      <td>IND</td>\n",
       "      <td>9.01.03</td>\n",
       "      <td>1</td>\n",
       "      <td>Total de Ações (...</td>\n",
       "      <td>1.563080e+09</td>\n",
       "    </tr>\n",
       "  </tbody>\n",
       "</table>\n",
       "<p>7052687 rows × 16 columns</p>\n",
       "</div>"
      ],
      "text/plain": [
       "         cia_id             cia_nome doc_id              doc_arq doc_tp  \\\n",
       "171          94    PANATLANTICA S.A.   6094  0000942010123140...    DFP   \n",
       "172          94    PANATLANTICA S.A.   6094  0000942010123140...    DFP   \n",
       "...         ...                  ...    ...                  ...    ...   \n",
       "10546289  24775  BCBF Participaçõ...  87098  0247752018123140...    DFP   \n",
       "10546290  24775  BCBF Participaçõ...  87098  0247752018123140...    DFP   \n",
       "\n",
       "         doc_ver             doc_env    doc_ref    per_ini    per_fim per_ref  \\\n",
       "171            1 2011-03-31 10:16:48 2010-12-31 2008-01-01 2008-12-31      -2   \n",
       "172            1 2011-03-31 10:16:48 2010-12-31 2008-01-01 2008-12-31      -2   \n",
       "...          ...                 ...        ...        ...        ...     ...   \n",
       "10546289       3 2019-09-02 11:46:05 2018-12-31 2018-01-01 2018-12-31       0   \n",
       "10546290       3 2019-09-02 11:46:05 2018-12-31 2018-01-01 2018-12-31       0   \n",
       "\n",
       "         dem_tp conta_id conta_fixa           conta_desc   conta_valor  \n",
       "171         IND        1          1          Ativo Total  1.847500e+08  \n",
       "172         CON        1          1          Ativo Total  2.045610e+08  \n",
       "...         ...      ...        ...                  ...           ...  \n",
       "10546289    IND  9.01.01          1  Ações Ordinárias...  1.563080e+09  \n",
       "10546290    IND  9.01.03          1  Total de Ações (...  1.563080e+09  \n",
       "\n",
       "[7052687 rows x 16 columns]"
      ]
     },
     "execution_count": 5,
     "metadata": {},
     "output_type": "execute_result"
    }
   ],
   "source": [
    "df.query('doc_tp == \"DFP\"', inplace=True)\n",
    "df"
   ]
  },
  {
   "cell_type": "code",
   "execution_count": null,
   "metadata": {},
   "outputs": [
    {
     "data": {
      "text/plain": [
       "10492"
      ]
     },
     "execution_count": 6,
     "metadata": {},
     "output_type": "execute_result"
    }
   ],
   "source": [
    "# Núm. de DFPs\n",
    "df.doc_id.nunique()"
   ]
  },
  {
   "cell_type": "code",
   "execution_count": null,
   "metadata": {},
   "outputs": [
    {
     "data": {
      "text/plain": [
       "<AxesSubplot:>"
      ]
     },
     "execution_count": 7,
     "metadata": {},
     "output_type": "execute_result"
    },
    {
     "data": {
      "image/png": "[encoded data removed]",
      "text/plain": [
       "<Figure size 432x288 with 1 Axes>"
      ]
     },
     "metadata": {
      "needs_background": "light"
     },
     "output_type": "display_data"
    }
   ],
   "source": [
    "# The 100th day seems to be an interesting cut-off day, close to most publications, not letting the information get too out of date.\n",
    "df.doc_env.dt.dayofyear.hist(bins=25)"
   ]
  },
  {
   "cell_type": "code",
   "execution_count": null,
   "metadata": {},
   "outputs": [],
   "source": []
  }
 ],
 "metadata": {
  "kernelspec": {
   "display_name": "Python 3.10.5 ('tests')",
   "language": "python",
   "name": "python3"
  },
  "language_info": {
   "codemirror_mode": {
    "name": "ipython",
    "version": 3
   },
   "file_extension": ".py",
   "mimetype": "text/x-python",
   "name": "python",
   "nbconvert_exporter": "python",
   "pygments_lexer": "ipython3",
   "version": "3.10.5"
  },
  "orig_nbformat": 4,
  "vscode": {
   "interpreter": {
    "hash": "9b19c4151f9245edebceb4d302b41b31594bd282db34fd7a94f1a7d913cca1e6"
   }
  }
 },
 "nbformat": 4,
 "nbformat_minor": 2
}
