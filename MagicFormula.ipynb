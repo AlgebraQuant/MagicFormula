{
  "nbformat": 4,
  "nbformat_minor": 0,
  "metadata": {
    "colab": {
      "name": "MagicFormula.ipynb",
      "provenance": [],
      "toc_visible": true,
      "include_colab_link": true
    },
    "kernelspec": {
      "name": "python3",
      "display_name": "Python 3"
    },
    "language_info": {
      "name": "python"
    }
  },
  "cells": [
    {
      "cell_type": "markdown",
      "metadata": {
        "id": "view-in-github",
        "colab_type": "text"
      },
      "source": [
        "<a href=\"https://colab.research.google.com/github/AlgebraQuant/MagicFormula/blob/main/MagicFormula.ipynb\" target=\"_parent\"><img src=\"https://colab.research.google.com/assets/colab-badge.svg\" alt=\"Open In Colab\"/></a>"
      ]
    },
    {
      "cell_type": "markdown",
      "source": [
        "## Backtesting Greenblatt’s Magic Formula for Brazilian listed companies\n",
        "---\n",
        "The Magic Formula is a portfolio management system that uses a combination of quality metrics and value proxies to identify the best possible portfolio for a given set of assets. Quality translates in the capacity that an enterprise have to maintain a consistent growth. This is a strategy that, at first, makes sense, since both quality and value are associated with long term price growth. (Nessa parte fiquei com duvida do que eh quality investing)\n",
        "\n",
        "**The canonical formula presented by GreenBlatt is composed of two parts:**\n",
        "1. ROIC...\n",
        "2. EY...\n",
        "---"
      ],
      "metadata": {
        "id": "l44iR_c9qbqo"
      }
    },
    {
      "cell_type": "markdown",
      "source": [
        "## The dataset\n",
        "In order to apply the Magic Formula to the Brazilian stocks market, we will need two types of data to do our backtest: accounting information and market prices.\n",
        "\n",
        "The accounting information is provided by the financial statements, a document produced by each company that presents a instant picture on how its assets and liabilities are distributed. The financial statement can be published in two forms: yearly our quarterly. Once a year, around three months after the end of the business year, each company holds the Shareholder's General Meeting - SGM, with the goal to present and approve an agenda with topics fixed through a legal requirement, with one of the points of this agenda being the approval of the financial statement of the last business year. At the same time, each company can publish quarterly financial statements that reflect only the accountancy of the last three months. This quarterly document can be a regulatory requirement our just a good governance practice.\n",
        "\n",
        "Since the quarterly financial statements can't be directly compared without some kind of adjustment, we are gonna use only the yearly docs. One benefit of this choice is that this doc is more robust and trustworthy, given that it passes through the SGM and is audited by an independent firm.\n",
        "\n",
        "A peculiarity of the Brazilian market, that we don't know if replicates elsewhere, is the fact that some companies act in a dual role, as a individual firm and as a holding. With that, two financial statements are created, one at the individual level, considering only the business generated directly by the company, and other consolidated, reflecting the participations in other business. This leads to a choice of what type of doc will be used in the backtest. A natural choice is the consolidated, since we expect that the market price reflects the overall holdings of a particular company. But this choice has a catch. The rule for consolidation is as follows: a participation up to 50% is not consolidated, while a participation above 50% is consolidated. The objective of the rule is to inform how much business the company controls, not how much business it generates. Despite that, considering that is not a 100% picture of the actual financial situation of the company, we will use the consolidated financial statement, due to its link with the market price, as pointed above.\n",
        "\n",
        "Still remaining in the individual/consolidated topic, we use the outstanding number of shares in the individual level. It doesn't make sense to consolidate the shares of different companies. While a financial account is a monetary value that, given is measured in a common currency, can be summed or subtracted of other accounts of the same nature, a share can only do mathematical operations with other identical shares.\n",
        "\n",
        "The time interval that we defined for the backtest is from 2010 to 2022, comprising 12 years. A technicality that must be clear is that, for example, the results from 2010 are available only in the early months of 2011. This is a important fact to pay attention, to avoid using information that is not available at the time of the decision. Is easy to be mistaken and think that a financial statement of a particular year was published in that same year. Usually, the Brazilian business year goes from January to December, making unfeasible the publication of the document in the same year."
      ],
      "metadata": {
        "id": "XPNrH1-2O1CG"
      }
    },
    {
      "cell_type": "code",
      "execution_count": null,
      "metadata": {
        "id": "JDO4m1uno9qu"
      },
      "outputs": [],
      "source": [
        "import pandas as pd"
      ]
    },
    {
      "cell_type": "code",
      "source": [
        "\n",
        "\n"
      ],
      "metadata": {
        "id": "0iPNlfmvpD1n"
      },
      "execution_count": null,
      "outputs": []
    },
    {
      "cell_type": "code",
      "source": [
        ""
      ],
      "metadata": {
        "id": "6C6vZBEep-o0"
      },
      "execution_count": null,
      "outputs": []
    }
  ]
}