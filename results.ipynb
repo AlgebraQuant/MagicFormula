{
 "cells": [
  {
   "cell_type": "markdown",
   "metadata": {},
   "source": [
    "### Backtesting Greenblatt’s Magic Formula for Brazilian listed companies\n",
    "---\n",
    "The Magic Formula is a combination of growth and value proxies that tries to identify the best possible long-term buy for a given set of assets. As Greenblatt stated in his book [The Little Book That Beats the Market](https://www.magicformulainvesting.com/Home/AboutTheBook), *\"what would happen if we decided to only buy shares in good businesses (ones with high returns on capital) but only when they were available at bargain prices (priced to give us a high earnings yield)?\"*\n",
    "\n",
    "<img src=\"./images/book.png\" alt=\"fishy\" class=\"bg-primary\" width=\"200px\">\n",
    "\n",
    "**The canonical formula presented in Greenblatt's book is composed of two parts:**\n",
    "1. Return on Capital (ROIC) = EBIT/(Net Working Capital + Net Fixed Assets)\n",
    "2. Earnings Yield (EY) = EBIT/Enterprise Value\n",
    "---"
   ]
  },
  {
   "cell_type": "markdown",
   "metadata": {},
   "source": [
    "In order to simulate the application of the Magic Formula to the Brazilian market since 2011, the minimum period in which it is possible to obtain formatted accounting data from companies listed on the Brazilian stock exchange (B3), we divided the analysis into the following parts:\n",
    "1. Define the stocks that will be excluded from simulation;\n",
    "1. Extract accounting data for the not excluded companies. Remove companies with negative EBIT and ROIC;\n",
    "1. Define the best day of the year to rebalance the portfolio considering the publications of the audited annual financial statements;\n",
    "1. Build a table of assets incorporating pricing and accounting data in order to rank companies based on ROIC and EY indicators and construct a yearly portfolio with 30 stocks;\n",
    "1. Extract the adjusted prices for the companies defined in the previuous step;\n",
    "1. Calculate the total return on the portfolio over the backtest period e compare it with IBOV market index.\n",
    "\n",
    "For each step listed above, a dedicated Jupyter Notebook was created in which you can check in detail how the data extraction operation was performed. In this notebook, we will only summarize these steps and present the results obtained in the project."
   ]
  },
  {
   "cell_type": "markdown",
   "metadata": {},
   "source": [
    "### Excluded Stocks\n",
    "\n",
    "Pages 135 and 136 of the book provide general instructions for stock selection in cases where the screening is done outside the system that the author already offers at https://www.magicformulainvesting.com/ for US stocks.\n",
    "As we will perform a simulation with historical data of Brazilian stocks, our first filtering phase refers to the following Greenblatt's general instructions: \n",
    "- Eliminate all utilities and financial stocks (i.e., mutual funds, banks and insurance companies) from the list.\n",
    "- Eliminate all foreign companies from the list. In most cases, these will have the suffix “ADR” (for “American Depository Receipt”) after the name of the stock."
   ]
  },
  {
   "cell_type": "markdown",
   "metadata": {},
   "source": []
  }
 ],
 "metadata": {
  "kernelspec": {
   "display_name": "Python 3.10.5 ('mf')",
   "language": "python",
   "name": "python3"
  },
  "language_info": {
   "codemirror_mode": {
    "name": "ipython",
    "version": 3
   },
   "file_extension": ".py",
   "mimetype": "text/x-python",
   "name": "python",
   "nbconvert_exporter": "python",
   "pygments_lexer": "ipython3",
   "version": "3.10.5"
  },
  "orig_nbformat": 4,
  "vscode": {
   "interpreter": {
    "hash": "a3d489083e1a5e69a6ef7daab9970156c3f5baa7f86d2e24ee4aef4a6305edcf"
   }
  }
 },
 "nbformat": 4,
 "nbformat_minor": 2
}
