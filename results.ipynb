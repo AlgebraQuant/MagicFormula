{
 "cells": [
  {
   "cell_type": "markdown",
   "metadata": {},
   "source": [
    "### Backtesting Greenblatt’s Magic Formula for Brazilian listed companies\n",
    "---\n",
    "The Magic Formula can be described as simplified version of the value investing strategy used for decades by Warren Buffett and Charlie Munger. It uses a combination of growth and value proxies that tries to identify the best possible long-term buy for a given set of assets. As Greenblatt stated in his book [The Little Book That Beats the Market](https://www.magicformulainvesting.com/Home/AboutTheBook):\n",
    "\n",
    "> What would happen if we decided to only buy shares in good businesses (ones with high returns on capital) but only when they were available at bargain prices (priced to give us a high earnings yield)?\n",
    "\n",
    "In possession of the mathematically translated methodology, its application can be carried out in an automated way, allowing its retrospective application through computational algorithms that make use of data published by companies, by the stock exchange (B3) and by the brazilian capital market regulator (Comissão de Valores Mobiliários - CVM).\n",
    "\n",
    "**The canonical formula presented by Greenblatt in his book is composed of two parts:**\n",
    "1. Return on Capital (ROIC) = $\\frac{EBIT}{\\text{Net Working Capital } + \\text{ Net Fixed Assets}}$\n",
    "\n",
    "2. Earnings Yield (EY) = $\\frac{EBIT}{\\text{Enterprise Value}}$ \n",
    "\n",
    "<div class=\"alert alert-block alert-info\">\n",
    "<b>Note:</b> we adopted Prof. Aswath Damodaran definition of ROIC(1) in this project.\n",
    "</div>\n",
    "\n",
    "<sub>(1) [Return on Capital (ROC), Return on Invested Capital (ROIC) and Return on Equity (ROE): Measurement and Implications, 2007](https://pages.stern.nyu.edu/~adamodar/pdfiles/papers/returnmeasures.pdf)</sub>\n",
    "\n",
    "---"
   ]
  },
  {
   "cell_type": "markdown",
   "metadata": {},
   "source": [
    "### The Project:\n",
    "\n",
    "In order to simulate the application of the Magic Formula to the Brazilian market since 2011, the minimum period in which it is possible to obtain formatted accounting data from companies listed on the Brazilian stock exchange (B3), we divided the analysis into the following parts:\n",
    "1. Define the companies that will be included in simulation;\n",
    "1. Extract accounting data for the not excluded companies. Remove companies with negative EBIT and ROIC;\n",
    "1. Define the best day of the year to rebalance the portfolio considering the publications of the audited annual financial statements;\n",
    "1. Build a table of assets incorporating pricing and accounting data in order to rank companies based on ROIC and EY indicators and construct a yearly portfolio with 30 stocks;\n",
    "1. Extract the adjusted prices for the companies defined in the previuous step;\n",
    "1. Calculate the total return on the portfolio over the backtest period e compare it with IBOV market index.\n",
    "\n",
    "For each step listed above, a dedicated Jupyter Notebook was created in which you can check in detail how the data extraction operation was performed. In this notebook, we will only summarize these steps and present the results obtained in the project."
   ]
  },
  {
   "cell_type": "markdown",
   "metadata": {},
   "source": [
    "### [1. Included Companies](\"https://github.com/AlgebraQuant/MagicFormula/blob/main/src/1_included_companies.ipynb\")\n",
    "\n",
    "As we are going to carry out a simulation of how the strategy would have resulted if it had been adopted in the Brazilian market, we need to be aware of how the retrospective application of these rules will be made and if this application takes into account the characteristics of the local market.\n",
    "\n",
    "Pages 135 and 136 of the book provide general instructions for stock selection in cases where the screening is done outside the system that the author already offers at https://www.magicformulainvesting.com/ for US stocks. Two of these Greenblatt's general rules seems to be very important:\n",
    "\n",
    "> - Eliminate all utilities and financial stocks (i.e., mutual funds, banks and insurance companies) from the list.\n",
    "> - Eliminate all foreign companies from the list. In most cases, these will have the suffix “ADR” (for “American Depository Receipt”) after the name of the stock.\n",
    "\n",
    "The most consistent way we found to remove companies that should not be included in the simulation was to use the [CVM database of publicly traded companies](http://dados.cvm.gov.br/dados/CIA_ABERTA/CAD/DADOS/). The above database has 2448 companies. By removing the companies from items 1 and 2, as well as state-owned companies(2), we arrived at a total of 1443 companies. \n",
    "\n",
    "(2) Despite not being explicit in the book, this type of company does not go public in the US.\n"
   ]
  },
  {
   "cell_type": "markdown",
   "metadata": {},
   "source": [
    "### [2. Financial Data](\"https://github.com/AlgebraQuant/MagicFormula/blob/main/src/2_magic_financials.ipynb\")"
   ]
  },
  {
   "cell_type": "code",
   "execution_count": null,
   "metadata": {},
   "outputs": [],
   "source": []
  }
 ],
 "metadata": {
  "kernelspec": {
   "display_name": "Python 3 (ipykernel)",
   "language": "python",
   "name": "python3"
  },
  "language_info": {
   "codemirror_mode": {
    "name": "ipython",
    "version": 3
   },
   "file_extension": ".py",
   "mimetype": "text/x-python",
   "name": "python",
   "nbconvert_exporter": "python",
   "pygments_lexer": "ipython3",
   "version": "3.10.5"
  },
  "vscode": {
   "interpreter": {
    "hash": "a3d489083e1a5e69a6ef7daab9970156c3f5baa7f86d2e24ee4aef4a6305edcf"
   }
  }
 },
 "nbformat": 4,
 "nbformat_minor": 4
}
