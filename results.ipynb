{
 "cells": [
  {
   "cell_type": "markdown",
   "metadata": {},
   "source": [
    "### Backtesting Greenblatt’s Magic Formula for Brazilian listed companies\n",
    "---\n",
    "The Magic Formula is a combination of growth and value proxies that tries to identify the best possible long-term buy for a given set of assets. As Greenblatt stated in his book [The Little Book That Beats the Market](https://www.magicformulainvesting.com/Home/AboutTheBook), *\"what would happen if we decided to only buy shares in good businesses (ones with high returns on capital) but only when they were available at bargain prices (priced to give us a high earnings yield)?\"*\n",
    "\n",
    "<img src=\"./images/book.png\" alt=\"fishy\" class=\"bg-primary\" width=\"200px\">\n",
    "\n",
    "**The canonical formula presented in Greenblatt's book is composed of two parts:**\n",
    "1. Return on Capital (ROIC) = EBIT/(Net Working Capital + Net Fixed Assets)\n",
    "2. Earnings Yield (EY) = EBIT/Enterprise Value\n",
    "---"
   ]
  },
  {
   "cell_type": "code",
   "execution_count": null,
   "metadata": {},
   "outputs": [],
   "source": []
  }
 ],
 "metadata": {
  "kernelspec": {
   "display_name": "Python 3.10.5 ('mf')",
   "language": "python",
   "name": "python3"
  },
  "language_info": {
   "codemirror_mode": {
    "name": "ipython",
    "version": 3
   },
   "file_extension": ".py",
   "mimetype": "text/x-python",
   "name": "python",
   "nbconvert_exporter": "python",
   "pygments_lexer": "ipython3",
   "version": "3.10.5"
  },
  "orig_nbformat": 4,
  "vscode": {
   "interpreter": {
    "hash": "a3d489083e1a5e69a6ef7daab9970156c3f5baa7f86d2e24ee4aef4a6305edcf"
   }
  }
 },
 "nbformat": 4,
 "nbformat_minor": 2
}
