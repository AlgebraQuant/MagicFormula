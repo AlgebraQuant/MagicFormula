{
 "cells": [
  {
   "cell_type": "markdown",
   "metadata": {},
   "source": [
    "### Backtesting Greenblatt’s Magic Formula for Brazilian listed companies\n",
    "---\n",
    "The Magic Formula is a combination of growth and value proxies that tries to identify the best possible long-term buy for a given set of assets. As Greenblatt stated in his book [The Little Book That Beats the Market](https://www.magicformulainvesting.com/Home/AboutTheBook), \"what would happen if we decided to only buy shares in good businesses (ones with high returns on capital) but only when they were available at bargain prices (priced to give us a high earnings yield)?\"\n",
    "![](https://drive.google.com/uc?export=view&id=14zFTRxnerMmcEI1cpyHWVVgYtQ92uHEn)\n",
    "\n",
    "```{figure} ./images/book.png\n",
    "---\n",
    "scale: 50%\n",
    "align: left\n",
    "---\n",
    "Here is my figure caption!\n",
    "```\n",
    "\n",
    "**The canonical formula presented in Greenblatt's book is composed of two parts:**\n",
    "1. Return on Capital (ROIC) = EBIT/(Net Working Capital + Net Fixed Assets)\n",
    "2. Earnings Yield (EY) = EBIT/Enterprise Value\n",
    "---"
   ]
  },
  {
   "cell_type": "markdown",
   "metadata": {},
   "source": []
  }
 ],
 "metadata": {
  "kernelspec": {
   "display_name": "Python 3.10.5 ('mf')",
   "language": "python",
   "name": "python3"
  },
  "language_info": {
   "name": "python",
   "version": "3.10.5"
  },
  "orig_nbformat": 4,
  "vscode": {
   "interpreter": {
    "hash": "a3d489083e1a5e69a6ef7daab9970156c3f5baa7f86d2e24ee4aef4a6305edcf"
   }
  }
 },
 "nbformat": 4,
 "nbformat_minor": 2
}
